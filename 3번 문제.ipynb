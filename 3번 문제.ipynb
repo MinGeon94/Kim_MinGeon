{
 "cells": [
  {
   "cell_type": "code",
   "execution_count": 1,
   "id": "4809b11e",
   "metadata": {},
   "outputs": [
    {
     "name": "stdout",
     "output_type": "stream",
     "text": [
      "한화 평균 연봉: 22253.846153846152\n",
      "SK 평균 연봉: 17736.842105263157\n",
      "t-test 통계량: 0.6624041217840793\n",
      "p-value: 0.5099280465043418\n"
     ]
    }
   ],
   "source": [
    "import pandas as pd\n",
    "import numpy as np\n",
    "import matplotlib.pyplot as plt\n",
    "from scipy.stats import ttest_ind\n",
    "\n",
    "import warnings\n",
    "warnings.filterwarnings(\"ignore\")\n",
    "\n",
    "# 데이터 불러오기\n",
    "picher_file_path = '../data/picher_stats_2017.csv'\n",
    "batter_file_path = '../data/batter_stats_2017.csv'\n",
    "picher = pd.read_csv(picher_file_path)\n",
    "batter = pd.read_csv(batter_file_path)\n",
    "\n",
    "# 팀 정보와 연봉 정보가 포함된 데이터프레임 생성\n",
    "baseball = pd.concat([picher, batter])\n",
    "\n",
    "# 한화와 SK 데이터만 추출\n",
    "hanhwa = baseball.loc[baseball['팀명'] == '한화']\n",
    "sk = baseball.loc[baseball['팀명'] == 'SK']\n",
    "\n",
    "# 각 팀의 연봉 평균 계산\n",
    "hanhwa_mean = hanhwa['연봉(2017)'].mean()\n",
    "sk_mean = sk['연봉(2017)'].mean()\n",
    "\n",
    "# t-test로 두 팀 간의 차이 검정\n",
    "t_stat, p_val = ttest_ind(hanhwa['연봉(2017)'], sk['연봉(2017)'], equal_var=False)\n",
    "\n",
    "print('한화 평균 연봉:', hanhwa_mean)\n",
    "print('SK 평균 연봉:', sk_mean)\n",
    "print('t-test 통계량:', t_stat)\n",
    "print('p-value:', p_val)"
   ]
  },
  {
   "cell_type": "markdown",
   "id": "efb8c269",
   "metadata": {},
   "source": [
    "문제 : 한화팀과 SK팀간의 2017년 연봉의 평균간에는 유의미한 차이가 존재하는지 t-test로 검정하기\n",
    "\n",
    "투수와 타자의 데이터를 불러오고,\n",
    "우리가 구하고자 하는 것은 한화와 SK의 연봉 평균이어서 타자와 투수의 데이터를 'baseball' 이라는 데이터프레임에 합친다.\n",
    "그 중에서도 한화와 SK의 데이터를 추출하고, 평균값을 계산한다.\n",
    "그 후 t-test와 p-value로 차이를 검정하였고, p-value가 0.5099로 나타나므로, 통계적으로 유의미한 차이가 없다고 해석하였다.\n"
   ]
  }
 ],
 "metadata": {
  "kernelspec": {
   "display_name": "Python 3 (ipykernel)",
   "language": "python",
   "name": "python3"
  },
  "language_info": {
   "codemirror_mode": {
    "name": "ipython",
    "version": 3
   },
   "file_extension": ".py",
   "mimetype": "text/x-python",
   "name": "python",
   "nbconvert_exporter": "python",
   "pygments_lexer": "ipython3",
   "version": "3.8.16"
  }
 },
 "nbformat": 4,
 "nbformat_minor": 5
}
