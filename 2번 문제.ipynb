{
 "cells": [
  {
   "cell_type": "code",
   "execution_count": 1,
   "id": "95a2643b",
   "metadata": {},
   "outputs": [
    {
     "name": "stdout",
     "output_type": "stream",
     "text": [
      "맥주와 와인 간의 피어슨 상관값: 0.2977739788485701\n"
     ]
    }
   ],
   "source": [
    "import pandas as pd\n",
    "\n",
    "# 데이터 불러오기\n",
    "file_path = '../data/drinks.csv'\n",
    "drinks = pd.read_csv(file_path) # read_csv 함수로 데이터를 Dataframe 형태로 불러옵니다.\n",
    "\n",
    "# 유럽 국가들의 데이터 추출\n",
    "eu_drinks = drinks.loc[drinks['continent'] == 'EU']\n",
    "\n",
    "# 맥주와 와인 간의 상관관계 계산\n",
    "corr = eu_drinks['beer_servings'].corr(eu_drinks['wine_servings'], method='pearson')\n",
    "\n",
    "print('맥주와 와인 간의 피어슨 상관값:', corr)"
   ]
  },
  {
   "cell_type": "markdown",
   "id": "ddf52f6c",
   "metadata": {},
   "source": [
    "문제 : 유럽국가들에 대해서는 맥주와 와인간의 상관관계는 얼마나 되는지 피어슨상관값(Pearson Correlation)을 구하기\n",
    "\n",
    "음주데이터를 불러오고,\n",
    "유럽국가들에 대하여 구해야하니 유럽 국가의 데이터를 우선 추출을 한다.\n",
    "그 데이터 중에서 맥주 소비량과 와인 소비량을 추출해 바로 피어슨 상관계산을 하였다.\n",
    "피어슨 상관값이 0.2978로 양의 선형 상관관계가 있다고 판단할 수 있고,\n",
    "맥주 소비량이 증가할 때 와인 소비량도 약간 증가하는 경향이 있을 수 있다고 판단하였다."
   ]
  }
 ],
 "metadata": {
  "kernelspec": {
   "display_name": "Python 3 (ipykernel)",
   "language": "python",
   "name": "python3"
  },
  "language_info": {
   "codemirror_mode": {
    "name": "ipython",
    "version": 3
   },
   "file_extension": ".py",
   "mimetype": "text/x-python",
   "name": "python",
   "nbconvert_exporter": "python",
   "pygments_lexer": "ipython3",
   "version": "3.8.16"
  }
 },
 "nbformat": 4,
 "nbformat_minor": 5
}
