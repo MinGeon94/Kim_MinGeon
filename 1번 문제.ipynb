{
 "cells": [
  {
   "cell_type": "code",
   "execution_count": 3,
   "id": "53af8f61",
   "metadata": {},
   "outputs": [
    {
     "name": "stdout",
     "output_type": "stream",
     "text": [
      "item_name\n",
      "Chicken Bowl           7342.73\n",
      "Chicken Burrito        5575.82\n",
      "Steak Burrito          3851.43\n",
      "Steak Bowl             2260.19\n",
      "Chips and Guacamole    2201.04\n",
      "Chicken Salad Bowl     1228.75\n",
      "Chicken Soft Tacos     1108.09\n",
      "Veggie Burrito          934.77\n",
      "Barbacoa Burrito        894.75\n",
      "Veggie Bowl             867.99\n",
      "Name: item_price, dtype: float64\n"
     ]
    }
   ],
   "source": [
    "import pandas as pd\n",
    "\n",
    "# 데이터 불러오기\n",
    "file_path = '../data/chipotle.tsv'\n",
    "chipo = pd.read_csv(file_path, sep='\\t')\n",
    "\n",
    "# 가격 정보를 숫자형으로 변환\n",
    "chipo['item_price'] = chipo['item_price'].apply(lambda x: float(x[1:-1]))\n",
    "\n",
    "# 각 아이템의 총 판매액 계산\n",
    "item_sum = chipo.groupby('item_name')['item_price'].sum()\n",
    "\n",
    "# 총 판매액 순으로 정렬하여 상위 10개 아이템 출력\n",
    "top_10_items = item_sum.sort_values(ascending=False).head(10)\n",
    "print(top_10_items)"
   ]
  },
  {
   "cell_type": "markdown",
   "id": "74b828a8",
   "metadata": {},
   "source": [
    "문제 : Chipotle의 주문데이터(01-chipotle-eda.ipynb)에 대해서 총판매액수가 가장 높은 상위 10개의 품목을 출력하기\n",
    "\n",
    "주문 데이터를 불러오고,\n",
    "가격 비교를 위해 가격 정보를 문자형이 아닌 숫자형으로 변환을 해준다.\n",
    "그 후 각 품목별로 판매액을 합산해주고, 품목별로 비교하며 상위 10개 품목을 출력한다."
   ]
  },
  {
   "cell_type": "code",
   "execution_count": null,
   "id": "1daae3c5",
   "metadata": {},
   "outputs": [],
   "source": []
  }
 ],
 "metadata": {
  "kernelspec": {
   "display_name": "Python 3 (ipykernel)",
   "language": "python",
   "name": "python3"
  },
  "language_info": {
   "codemirror_mode": {
    "name": "ipython",
    "version": 3
   },
   "file_extension": ".py",
   "mimetype": "text/x-python",
   "name": "python",
   "nbconvert_exporter": "python",
   "pygments_lexer": "ipython3",
   "version": "3.8.16"
  }
 },
 "nbformat": 4,
 "nbformat_minor": 5
}
